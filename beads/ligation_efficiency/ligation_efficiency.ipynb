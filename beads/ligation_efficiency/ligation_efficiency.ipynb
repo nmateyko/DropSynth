{
 "cells": [
  {
   "cell_type": "code",
   "execution_count": 1,
   "metadata": {},
   "outputs": [],
   "source": [
    "import csv"
   ]
  },
  {
   "cell_type": "markdown",
   "metadata": {},
   "source": [
    "Define functions:"
   ]
  },
  {
   "cell_type": "code",
   "execution_count": 2,
   "metadata": {},
   "outputs": [],
   "source": [
    "def revcomp(seq):\n",
    "  comp = {'A': 'T', 'C': 'G', 'G': 'C', 'T': 'A'}\n",
    "  return \"\".join(comp[base] for base in seq[::-1])"
   ]
  },
  {
   "cell_type": "markdown",
   "metadata": {},
   "source": [
    "These are the 20 sub-barcodes that will be used:"
   ]
  },
  {
   "cell_type": "code",
   "execution_count": 3,
   "metadata": {},
   "outputs": [],
   "source": [
    "subbarcodes = ['ACGT', 'ACTG', 'AGCT', 'AGTC', 'ATCG', 'CAGT', 'CGAT', 'CGTA', 'CTGA', 'GACT', 'GATC', 'GCTA', 'GTAC', 'GTCA', 'TACG', 'TAGC', 'TCAG', 'TCGA', 'TGAC', 'TGCA']"
   ]
  },
  {
   "cell_type": "markdown",
   "metadata": {},
   "source": [
    "Read in the data from Pryor et al. (https://doi.org/10.1371/journal.pone.0238592; saved their .xlsx as .csv) and create a nested dictionary:"
   ]
  },
  {
   "cell_type": "code",
   "execution_count": 4,
   "metadata": {},
   "outputs": [],
   "source": [
    "with open ('ligation_efficiency.csv') as f:\n",
    "  reader = csv.DictReader(f)\n",
    "  efficiencies = {}\n",
    "  for row in reader:\n",
    "    overhang = row['Overhang']\n",
    "    row.pop('Overhang')\n",
    "    row = dict([a, int(x)] for a, x in row.items()) # convert values from string to int\n",
    "    efficiencies[overhang] = row"
   ]
  },
  {
   "cell_type": "markdown",
   "metadata": {},
   "source": [
    "Find the efficiency of each sub-barcode ligating to its reverse complement to make sure that none of the sub-barcodes have low ligation efficiency. Also compare to the worst and best efficiencies seen."
   ]
  },
  {
   "cell_type": "code",
   "execution_count": 5,
   "metadata": {},
   "outputs": [
    {
     "name": "stdout",
     "output_type": "stream",
     "text": [
      "ACGT: 582\n",
      "ACTG: 595\n",
      "AGCT: 456\n",
      "AGTC: 606\n",
      "ATCG: 570\n",
      "CAGT: 595\n",
      "CGAT: 570\n",
      "CGTA: 507\n",
      "CTGA: 712\n",
      "GACT: 606\n",
      "GATC: 616\n",
      "GCTA: 524\n",
      "GTAC: 504\n",
      "GTCA: 564\n",
      "TACG: 507\n",
      "TAGC: 524\n",
      "TCAG: 712\n",
      "TCGA: 708\n",
      "TGAC: 564\n",
      "TGCA: 522\n",
      "Worst efficiencies: [240, 252, 252, 265, 265, 272, 272, 273, 273, 280]\n",
      "Best efficiencies: [718, 747, 747, 748, 748, 754, 766, 766, 789, 789]\n",
      "Average efficiency: 514.7578125\n"
     ]
    }
   ],
   "source": [
    "for barcode in subbarcodes:\n",
    "  print(f'{barcode}: {efficiencies[barcode][revcomp(barcode)]}')\n",
    "\n",
    "self_efficiencies = []\n",
    "for overhang in efficiencies:\n",
    "  self_efficiencies.append(efficiencies[overhang][revcomp(overhang)])\n",
    "\n",
    "self_efficiencies.sort()\n",
    "print(f'Worst efficiencies: {self_efficiencies[:10]}')\n",
    "print(f'Best efficiencies: {self_efficiencies[-10:]}')\n",
    "print(f'Average efficiency: {sum(self_efficiencies)/len(self_efficiencies)}')"
   ]
  },
  {
   "cell_type": "markdown",
   "metadata": {},
   "source": [
    "All sub-barcodes are at least close to the average efficiency seen for all overhangs."
   ]
  },
  {
   "cell_type": "markdown",
   "metadata": {},
   "source": [
    "Now find the sub-barcode pairs that are most likely to incorrectly ligate with each other:"
   ]
  },
  {
   "cell_type": "code",
   "execution_count": 9,
   "metadata": {},
   "outputs": [
    {
     "name": "stdout",
     "output_type": "stream",
     "text": [
      "[('TGCA', 'TGAC', 0), ('ACGT', 'CAGT', 1), ('ACTG', 'ACGT', 1), ('AGCT', 'TGCA', 1), ('ATCG', 'TACG', 1), ('CGTA', 'CGAT', 1), ('GATC', 'GTAC', 1), ('GTAC', 'GATC', 1), ('TGCA', 'AGCT', 1), ('ATCG', 'CGAT', 2), ('GACT', 'GATC', 2), ('GATC', 'AGTC', 2)]\n"
     ]
    }
   ],
   "source": [
    "scores = []\n",
    "for barcode in subbarcodes:\n",
    "  other_barcodes = [i for i in subbarcodes if i != barcode]\n",
    "  for other in other_barcodes:\n",
    "    scores.append((barcode, other, efficiencies[barcode][revcomp(other)]))\n",
    "  \n",
    "sorted_scores = sorted(scores, key=lambda x: x[2])\n",
    "print(sorted_scores[-12:])"
   ]
  },
  {
   "cell_type": "code",
   "execution_count": 7,
   "metadata": {},
   "outputs": [],
   "source": [
    "for barcode in subbarcodes:\n",
    "  other_barcodes = [i for i in subbarcodes if i != barcode]"
   ]
  }
 ],
 "metadata": {
  "kernelspec": {
   "display_name": "Python 3.10.4 64-bit",
   "language": "python",
   "name": "python3"
  },
  "language_info": {
   "codemirror_mode": {
    "name": "ipython",
    "version": 3
   },
   "file_extension": ".py",
   "mimetype": "text/x-python",
   "name": "python",
   "nbconvert_exporter": "python",
   "pygments_lexer": "ipython3",
   "version": "3.10.4"
  },
  "orig_nbformat": 4,
  "vscode": {
   "interpreter": {
    "hash": "fa7c27dc793df5be2edaadabdf154ce9b78714d52aa15f6b4e8ee8c3cd646d7f"
   }
  }
 },
 "nbformat": 4,
 "nbformat_minor": 2
}
