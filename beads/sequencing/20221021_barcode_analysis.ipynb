{
 "cells": [
  {
   "cell_type": "code",
   "execution_count": null,
   "metadata": {},
   "outputs": [],
   "source": [
    "from itertools import islice\n",
    "import Levenshtein"
   ]
  },
  {
   "cell_type": "markdown",
   "metadata": {},
   "source": [
    "Define functions to be used later."
   ]
  },
  {
   "cell_type": "code",
   "execution_count": null,
   "metadata": {},
   "outputs": [],
   "source": [
    "# stolen from https://gist.github.com/jakebiesinger/759018/1b7d6bd6967780a8bbae743760c37885bdf86467\n",
    "def readFastq(fastqfile):\n",
    "    \"parse a fastq-formatted file, yielding a (header, sequence, quality) tuple\"\n",
    "    fastqiter = (l.strip('\\n') for l in fastqfile)  # strip trailing newlines \n",
    "    fastqiter = filter(lambda l: l, fastqiter)  # skip blank lines\n",
    "    while True:\n",
    "        fqlines = list(islice(fastqiter, 4))\n",
    "        if len(fqlines) == 4:\n",
    "            header1,seq,header2,qual = fqlines\n",
    "        elif len(fqlines) == 0:\n",
    "            return\n",
    "        else:\n",
    "            raise EOFError(\"Failed to parse four lines from fastq file!\")\n",
    "\n",
    "        if header1.startswith('@') and header2.startswith('+'):\n",
    "            yield header1[1:], seq, qual\n",
    "        else:\n",
    "            raise ValueError(\"Invalid header lines: %s and %s for seq %s\" % (header1, header2, seq))\n",
    "\n",
    "def hamming(a, b):\n",
    "  return sum(i != j for i, j in zip(a, b))\n",
    "\n",
    "def rev_comp(seq):\n",
    "    comp = {'A': 'T', 'C': 'G', 'G': 'C', 'T': 'A'}\n",
    "    return \"\".join(comp[base] for base in seq[::-1])\n",
    "\n",
    "def all_kmers(seq, k):\n",
    "    return [seq[i:i + k] for i in range(len(seq) - k + 1)]\n",
    "\n",
    "# all_kmers('ACGTACGTACGT', 4)"
   ]
  },
  {
   "cell_type": "markdown",
   "metadata": {},
   "source": [
    "Get reads from fastq"
   ]
  },
  {
   "cell_type": "code",
   "execution_count": null,
   "metadata": {},
   "outputs": [],
   "source": [
    "with open('20221021_plasmidsaurus/Lab_j3x_1_ligation_barcode_no_PEG.fastq', 'r') as f:\n",
    "  no_PEG = readFastq(f)\n",
    "  no_PEG_reads = [seq for _, seq, _ in no_PEG]\n",
    "\n",
    "with open('20221021_plasmidsaurus/Lab_j3x_2_ligation_barcode_PEG.fastq', 'r') as f:\n",
    "  with_PEG = readFastq(f)\n",
    "  PEG_reads = [seq for _, seq, _ in with_PEG]\n",
    "\n",
    "# print(no_PEG_reads[:5])\n",
    "# print(PEG_reads[:5])\n",
    "print(len(no_PEG_reads))\n",
    "print(len(PEG_reads))"
   ]
  },
  {
   "cell_type": "markdown",
   "metadata": {},
   "source": [
    "Concatenate each read to itself in case the plasmid was linearized near the insertion site."
   ]
  },
  {
   "cell_type": "code",
   "execution_count": null,
   "metadata": {},
   "outputs": [],
   "source": [
    "no_PEG_reads_concat = [i + i for i in no_PEG_reads]\n",
    "PEG_reads_concat = [i + i for i in PEG_reads]\n",
    "\n",
    "# print(len(PEG_reads[0]))\n",
    "# print(len(PEG_reads_concat[0]))"
   ]
  },
  {
   "cell_type": "markdown",
   "metadata": {},
   "source": [
    "Search for the sequence that directly precedes the insertion site ('CCCGGGTACCGAGCTCGAATTCCCAATACT'). If it isn't found, then search the reverse complement. Take the next 200 bases and search for the sequence that comes after the insertion site. If both are found, then output the upstream site, insertion, and downstream site."
   ]
  },
  {
   "cell_type": "code",
   "execution_count": null,
   "metadata": {},
   "outputs": [],
   "source": [
    "def first_index_of_kmer(seq, kmer, dist, dist_func):\n",
    "  k = len(kmer)\n",
    "  kmers = all_kmers(seq, k)\n",
    "  for i, s in enumerate(kmers):\n",
    "    if dist_func(kmer, s) <= dist:\n",
    "      return i\n",
    "  return -1\n",
    "\n",
    "def best_index_of_kmer(seq, kmer, dist, dist_func):\n",
    "  k = len(kmer)\n",
    "  kmers = all_kmers(seq, k)\n",
    "  lowest_distance = dist + 1\n",
    "  best_index = -1\n",
    "  for i, s in enumerate(kmers):\n",
    "    distance = dist_func(kmer, s)\n",
    "    if distance <= dist and distance < lowest_distance:\n",
    "      lowest_distance = distance\n",
    "      best_index = i\n",
    "  return best_index\n",
    "\n",
    "def get_inserts(seqs, upstream, downstream, dist, dist_func):\n",
    "  insert_regions = []\n",
    "  for seq in seqs:\n",
    "    index = first_index_of_kmer(seq, upstream, dist, dist_func)\n",
    "    if index >= 0:\n",
    "      insert_regions.append(seq[index:index + 200])\n",
    "    else:\n",
    "      index_rev = first_index_of_kmer(rev_comp(seq), upstream, dist, dist_func)\n",
    "      if index_rev >= 0:\n",
    "        insert_regions.append(rev_comp(seq)[index_rev:index_rev + 200])\n",
    "  inserts = []\n",
    "  for seq in insert_regions:\n",
    "    up_idx = best_index_of_kmer(seq, upstream, dist, dist_func)\n",
    "    down_idx = best_index_of_kmer(seq, downstream, dist, dist_func)\n",
    "    if down_idx >= 0:\n",
    "      inserts.append((seq[up_idx:up_idx + len(upstream)], seq[up_idx + len(upstream): down_idx], seq[down_idx:down_idx + len(downstream)]))\n",
    "\n",
    "  max_width = max([len(insert) for up, insert, down in inserts])\n",
    "  table = [\"{:<30}\\t{:<{width}}\\t{:<30}\".format(*['Upstream', 'Insert', 'Downstream'], width=max_width)]\n",
    "  for upstream, insert, downstream in inserts:\n",
    "    if len(insert) > 0:\n",
    "      table.append(\"{:<30}\\t{:<{width}}\\t{:<30}\".format(upstream, insert, downstream, width=max_width))\n",
    "      table.append(\"{:<30}\\t{:<{width}}\\t{:<30}\".format(\"\", rev_comp(insert), \"\", width=max_width))\n",
    "  print(f'Number of matches found: {len(inserts)}')\n",
    "  print('\\n'.join(table))\n",
    "\n",
    "  return inserts"
   ]
  },
  {
   "cell_type": "code",
   "execution_count": null,
   "metadata": {},
   "outputs": [],
   "source": [
    "get_inserts(PEG_reads_concat, 'CCCGGGTACCGAGCTCGAATTCCCAATACT', 'AGTATTGGGAATTCACTGGCCGTCGTTTTA', 9, Levenshtein.distance)\n"
   ]
  },
  {
   "cell_type": "code",
   "execution_count": null,
   "metadata": {},
   "outputs": [],
   "source": [
    "get_inserts(no_PEG_reads_concat, 'CCCGGGTACCGAGCTCGAATTCCCAATACT', 'AGTATTGGGAATTCACTGGCCGTCGTTTTA', 9, Levenshtein.distance)"
   ]
  }
 ],
 "metadata": {
  "kernelspec": {
   "display_name": "Python 3.10.4 64-bit",
   "language": "python",
   "name": "python3"
  },
  "language_info": {
   "codemirror_mode": {
    "name": "ipython",
    "version": 3
   },
   "file_extension": ".py",
   "mimetype": "text/x-python",
   "name": "python",
   "nbconvert_exporter": "python",
   "pygments_lexer": "ipython3",
   "version": "3.10.4"
  },
  "orig_nbformat": 4,
  "vscode": {
   "interpreter": {
    "hash": "fa7c27dc793df5be2edaadabdf154ce9b78714d52aa15f6b4e8ee8c3cd646d7f"
   }
  }
 },
 "nbformat": 4,
 "nbformat_minor": 2
}
